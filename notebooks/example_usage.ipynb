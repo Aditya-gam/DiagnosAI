{
 "cells": [
  {
   "cell_type": "code",
   "execution_count": 1,
   "metadata": {},
   "outputs": [
    {
     "ename": "ModuleNotFoundError",
     "evalue": "No module named 'src'",
     "output_type": "error",
     "traceback": [
      "\u001b[1;31m---------------------------------------------------------------------------\u001b[0m",
      "\u001b[1;31mModuleNotFoundError\u001b[0m                       Traceback (most recent call last)",
      "Cell \u001b[1;32mIn[1], line 3\u001b[0m\n\u001b[0;32m      1\u001b[0m \u001b[38;5;28;01mimport\u001b[39;00m \u001b[38;5;21;01mtorch\u001b[39;00m\n\u001b[1;32m----> 3\u001b[0m \u001b[38;5;28;01mfrom\u001b[39;00m \u001b[38;5;21;01msrc\u001b[39;00m\u001b[38;5;21;01m.\u001b[39;00m\u001b[38;5;21;01mutils\u001b[39;00m \u001b[38;5;28;01mimport\u001b[39;00m initialize_model, save_model\n\u001b[0;32m      4\u001b[0m \u001b[38;5;28;01mfrom\u001b[39;00m \u001b[38;5;21;01msrc\u001b[39;00m\u001b[38;5;21;01m.\u001b[39;00m\u001b[38;5;21;01mtrain\u001b[39;00m \u001b[38;5;28;01mimport\u001b[39;00m train_model\n\u001b[0;32m      5\u001b[0m \u001b[38;5;28;01mfrom\u001b[39;00m \u001b[38;5;21;01msrc\u001b[39;00m\u001b[38;5;21;01m.\u001b[39;00m\u001b[38;5;21;01mdataset\u001b[39;00m \u001b[38;5;28;01mimport\u001b[39;00m load_data, prepare_data_loaders, prepare_test_loader\n",
      "\u001b[1;31mModuleNotFoundError\u001b[0m: No module named 'src'"
     ]
    }
   ],
   "source": [
    "import torch\n",
    "\n",
    "from src.utils import initialize_model, save_model\n",
    "from src.train import train_model\n",
    "from src.dataset import load_data, prepare_data_loaders, prepare_test_loader\n",
    "from src.visualize import plot_loss, plot_accuracy, plot_f1_precision_recall, plot_auc\n",
    "import src.config as config"
   ]
  },
  {
   "cell_type": "code",
   "execution_count": null,
   "metadata": {},
   "outputs": [],
   "source": [
    "def main():\n",
    "    device = torch.device(\"cuda:0\" if torch.cuda.is_available() else \"cpu\")\n",
    "    train_val_data, test_data, all_labels = load_data()\n",
    "\n",
    "    train_loader, valid_loader = prepare_data_loaders(\n",
    "        train_val_data, all_labels)\n",
    "    test_loader = prepare_test_loader(test_data, all_labels)\n",
    "\n",
    "    model, criterion, optimizer, scheduler = initialize_model(\n",
    "        device, num_classes=len(all_labels))\n",
    "    trained_model, best_trained_model, metrics_history = train_model(\n",
    "        model, criterion, optimizer, scheduler, train_loader, valid_loader, device, num_epochs=config.NUM_EPOCHS, model_save=True, save_path=config.MODEL_SAVE_PATH)\n",
    "\n",
    "    # Save the model with the best validation accuracy\n",
    "    save_model(best_trained_model, 'model_weights/final_best_model.pth')\n",
    "    save_model(trained_model, 'model_weights/complete_trained_model.pth')\n",
    "\n",
    "    # Plot the metrics\n",
    "    save_path = config.GRAPHS_SAVE_PATH\n",
    "\n",
    "    plot_loss(metrics_history, save_path)\n",
    "    plot_accuracy(metrics_history, save_path)\n",
    "    plot_f1_precision_recall(metrics_history, save_path)\n",
    "    plot_auc(metrics_history, save_path)\n",
    "\n",
    "\n",
    "if __name__ == '__main__':\n",
    "    main()\n"
   ]
  }
 ],
 "metadata": {
  "kernelspec": {
   "display_name": "venv",
   "language": "python",
   "name": "python3"
  },
  "language_info": {
   "codemirror_mode": {
    "name": "ipython",
    "version": 3
   },
   "file_extension": ".py",
   "mimetype": "text/x-python",
   "name": "python",
   "nbconvert_exporter": "python",
   "pygments_lexer": "ipython3",
   "version": "3.11.5"
  }
 },
 "nbformat": 4,
 "nbformat_minor": 2
}
