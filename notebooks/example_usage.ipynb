{
 "cells": [
  {
   "cell_type": "code",
   "execution_count": null,
   "metadata": {},
   "outputs": [],
   "source": [
    "# import sys\n",
    "# sys.path.append('../')  # Adjust the path based on your current notebook's location relative to `src`\n",
    "\n",
    "import torch\n",
    "\n",
    "from src.utils import initialize_model, save_model, count_parameters\n",
    "from src.train import train_model\n",
    "from src.dataset import load_data, prepare_data_loaders, prepare_test_loader\n",
    "from src.visualize import plot_loss, plot_accuracy, plot_f1_precision_recall, plot_auc\n",
    "import src.config as config\n"
   ]
  },
  {
   "cell_type": "code",
   "execution_count": null,
   "metadata": {},
   "outputs": [],
   "source": [
    "def main():\n",
    "    device = torch.device(\"cuda:0\" if torch.cuda.is_available() else \"cpu\")\n",
    "    print(f\"Using device: {device}\")\n",
    "\n",
    "    train_val_data, test_data, all_labels = load_data()\n",
    "    train_loader, valid_loader = prepare_data_loaders(\n",
    "        train_val_data, all_labels)\n",
    "    print(f\"Number of training samples: {len(train_loader.dataset)}\")\n",
    "    print(f\"Number of validation samples: {len(valid_loader.dataset)}\")\n",
    "\n",
    "    test_loader = prepare_test_loader(test_data, all_labels)\n",
    "    print(f\"Number of test samples: {len(test_loader.dataset)}\")\n",
    "\n",
    "    model, criterion, optimizer, scheduler = initialize_model(\n",
    "        device, num_classes=len(all_labels))\n",
    "    total_params, trainable_params, non_trainable_params = count_parameters(model)\n",
    "    print(f\"Total parameters: {total_params}\")\n",
    "    print(f\"Trainable parameters: {trainable_params}\")\n",
    "    print(f\"Non-trainable parameters: {non_trainable_params}\")\n",
    "\n",
    "    trained_model, best_trained_model, metrics_history = train_model(\n",
    "        model, criterion, optimizer, scheduler, train_loader, valid_loader, device, num_epochs=config.NUM_EPOCHS, model_save=True, save_path=config.MODEL_SAVE_PATH)\n",
    "\n",
    "    # Save the model with the best validation accuracy\n",
    "    save_model(best_trained_model, 'model_weights/final_best_model.pth')\n",
    "    print(\"best_trained_model saved at: model_weights/final_best_model.pth\")\n",
    "    save_model(trained_model, 'model_weights/complete_trained_model.pth')\n",
    "    print(\"trained_model saved at: model_weights/complete_trained_model.pth\")\n",
    "\n",
    "    # Plot the metrics\n",
    "    save_path = config.GRAPHS_SAVE_PATH\n",
    "\n",
    "    plot_loss(metrics_history, save_path)\n",
    "    plot_accuracy(metrics_history, save_path)\n",
    "    plot_f1_precision_recall(metrics_history, save_path)\n",
    "    plot_auc(metrics_history, save_path)\n",
    "\n",
    "\n",
    "if __name__ == '__main__':\n",
    "    main()"
   ]
  }
 ],
 "metadata": {
  "kernelspec": {
   "display_name": "venv",
   "language": "python",
   "name": "python3"
  },
  "language_info": {
   "codemirror_mode": {
    "name": "ipython",
    "version": 3
   },
   "file_extension": ".py",
   "mimetype": "text/x-python",
   "name": "python",
   "nbconvert_exporter": "python",
   "pygments_lexer": "ipython3",
   "version": "3.11.5"
  }
 },
 "nbformat": 4,
 "nbformat_minor": 2
}
